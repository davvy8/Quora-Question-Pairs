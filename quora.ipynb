{
 "cells": [
  {
   "cell_type": "code",
   "execution_count": 1,
   "metadata": {
    "_cell_guid": "2a4aaf77-e4b1-49f0-a2b9-d4c4d3969745",
    "_uuid": "599dc067-29e8-41cf-8234-84817f9c4821",
    "execution": {
     "iopub.execute_input": "2020-08-30T16:39:56.166682Z",
     "iopub.status.busy": "2020-08-30T16:39:56.165767Z",
     "iopub.status.idle": "2020-08-30T16:40:02.808743Z",
     "shell.execute_reply": "2020-08-30T16:40:02.809262Z"
    },
    "papermill": {
     "duration": 6.665295,
     "end_time": "2020-08-30T16:40:02.809443",
     "exception": false,
     "start_time": "2020-08-30T16:39:56.144148",
     "status": "completed"
    },
    "tags": []
   },
   "outputs": [],
   "source": [
    "import numpy as np\n",
    "import pandas as pd\n",
    "import re\n",
    "from nltk.corpus import stopwords\n",
    "from keras.preprocessing.sequence import pad_sequences\n",
    "from keras.models import Model\n",
    "from keras.layers import Input, Embedding, LSTM, Bidirectional, Lambda\n",
    "import keras.backend as K\n",
    "from keras.optimizers import Adam\n",
    "from keras.callbacks import ModelCheckpoint, EarlyStopping\n",
    "import matplotlib.pyplot as plt\n",
    "\n",
    "np.random.seed(seed=69)"
   ]
  },
  {
   "cell_type": "code",
   "execution_count": 2,
   "metadata": {
    "execution": {
     "iopub.execute_input": "2020-08-30T16:40:02.851274Z",
     "iopub.status.busy": "2020-08-30T16:40:02.848303Z",
     "iopub.status.idle": "2020-08-30T16:40:04.374242Z",
     "shell.execute_reply": "2020-08-30T16:40:04.375087Z"
    },
    "papermill": {
     "duration": 1.548487,
     "end_time": "2020-08-30T16:40:04.375358",
     "exception": false,
     "start_time": "2020-08-30T16:40:02.826871",
     "status": "completed"
    },
    "tags": []
   },
   "outputs": [
    {
     "name": "stdout",
     "output_type": "stream",
     "text": [
      "(404290, 6)\n"
     ]
    }
   ],
   "source": [
    "train_data = pd.read_csv(\"../input/quora-question-pairs/train.csv.zip\")\n",
    "print(train_data.shape)"
   ]
  },
  {
   "cell_type": "code",
   "execution_count": 3,
   "metadata": {
    "execution": {
     "iopub.execute_input": "2020-08-30T16:40:04.412371Z",
     "iopub.status.busy": "2020-08-30T16:40:04.411643Z",
     "iopub.status.idle": "2020-08-30T16:40:04.473338Z",
     "shell.execute_reply": "2020-08-30T16:40:04.472764Z"
    },
    "papermill": {
     "duration": 0.082461,
     "end_time": "2020-08-30T16:40:04.473466",
     "exception": false,
     "start_time": "2020-08-30T16:40:04.391005",
     "status": "completed"
    },
    "tags": []
   },
   "outputs": [],
   "source": [
    "random_indices_train = np.random.choice(train_data.shape[0], 250000, replace=False)\n",
    "train_X = train_data.iloc[random_indices_train[:200000]]\n",
    "test_X = train_data.iloc[random_indices_train[200000:]]"
   ]
  },
  {
   "cell_type": "code",
   "execution_count": 4,
   "metadata": {
    "execution": {
     "iopub.execute_input": "2020-08-30T16:40:04.519253Z",
     "iopub.status.busy": "2020-08-30T16:40:04.518445Z",
     "iopub.status.idle": "2020-08-30T16:40:04.522161Z",
     "shell.execute_reply": "2020-08-30T16:40:04.521677Z"
    },
    "papermill": {
     "duration": 0.034562,
     "end_time": "2020-08-30T16:40:04.522256",
     "exception": false,
     "start_time": "2020-08-30T16:40:04.487694",
     "status": "completed"
    },
    "tags": []
   },
   "outputs": [],
   "source": [
    "def text_to_word_list(text):\n",
    "    \n",
    "    text = str(text)\n",
    "    text = text.lower()\n",
    "\n",
    "    \n",
    "    text = re.sub(r\"[^A-Za-z0-9^,!.\\/'+-=]\", \" \", text)\n",
    "    text = re.sub(r\"what's\", \"what is \", text)\n",
    "    text = re.sub(r\"\\'s\", \" \", text)\n",
    "    text = re.sub(r\"\\'ve\", \" have \", text)\n",
    "    text = re.sub(r\"can't\", \"cannot \", text)\n",
    "    text = re.sub(r\"n't\", \" not \", text)\n",
    "    text = re.sub(r\"i'm\", \"i am \", text)\n",
    "    text = re.sub(r\"\\'re\", \" are \", text)\n",
    "    text = re.sub(r\"\\'d\", \" would \", text)\n",
    "    text = re.sub(r\"\\'ll\", \" will \", text)\n",
    "    text = re.sub(r\",\", \" \", text)\n",
    "    text = re.sub(r\"\\.\", \" \", text)\n",
    "    text = re.sub(r\"!\", \" ! \", text)\n",
    "    text = re.sub(r\"\\/\", \" \", text)\n",
    "    text = re.sub(r\"\\^\", \" ^ \", text)\n",
    "    text = re.sub(r\"\\+\", \" + \", text)\n",
    "    text = re.sub(r\"\\-\", \" - \", text)\n",
    "    text = re.sub(r\"\\=\", \" = \", text)\n",
    "    text = re.sub(r\"'\", \" \", text)\n",
    "    text = re.sub(r\"(\\d+)(k)\", r\"\\g<1>000\", text)\n",
    "    text = re.sub(r\":\", \" : \", text)\n",
    "    text = re.sub(r\" e g \", \" eg \", text)\n",
    "    text = re.sub(r\" b g \", \" bg \", text)\n",
    "    text = re.sub(r\" u s \", \" american \", text)\n",
    "    text = re.sub(r\"\\0s\", \"0\", text)\n",
    "    text = re.sub(r\" 9 11 \", \"911\", text)\n",
    "    text = re.sub(r\"e - mail\", \"email\", text)\n",
    "    text = re.sub(r\"j k\", \"jk\", text)\n",
    "    text = re.sub(r\"\\s{2,}\", \" \", text)\n",
    "\n",
    "    text = text.split()\n",
    "\n",
    "    return text"
   ]
  },
  {
   "cell_type": "code",
   "execution_count": 5,
   "metadata": {
    "execution": {
     "iopub.execute_input": "2020-08-30T16:40:04.555436Z",
     "iopub.status.busy": "2020-08-30T16:40:04.553735Z",
     "iopub.status.idle": "2020-08-30T16:40:04.556125Z",
     "shell.execute_reply": "2020-08-30T16:40:04.556623Z"
    },
    "papermill": {
     "duration": 0.020544,
     "end_time": "2020-08-30T16:40:04.556734",
     "exception": false,
     "start_time": "2020-08-30T16:40:04.536190",
     "status": "completed"
    },
    "tags": []
   },
   "outputs": [],
   "source": [
    "word2idx = {}"
   ]
  },
  {
   "cell_type": "code",
   "execution_count": 6,
   "metadata": {
    "execution": {
     "iopub.execute_input": "2020-08-30T16:40:04.590466Z",
     "iopub.status.busy": "2020-08-30T16:40:04.589838Z",
     "iopub.status.idle": "2020-08-30T16:40:04.593895Z",
     "shell.execute_reply": "2020-08-30T16:40:04.593419Z"
    },
    "papermill": {
     "duration": 0.02309,
     "end_time": "2020-08-30T16:40:04.593995",
     "exception": false,
     "start_time": "2020-08-30T16:40:04.570905",
     "status": "completed"
    },
    "tags": []
   },
   "outputs": [],
   "source": [
    "def words_to_indices(words_list):\n",
    "    indices_list = []\n",
    "    for w in words_list:\n",
    "        if w in word2idx:\n",
    "            indices_list.append(word2idx[w])\n",
    "        else:\n",
    "            indices_list.append(word2idx[\"<unk>\"])\n",
    "    return indices_list"
   ]
  },
  {
   "cell_type": "code",
   "execution_count": 7,
   "metadata": {
    "execution": {
     "iopub.execute_input": "2020-08-30T16:40:04.636144Z",
     "iopub.status.busy": "2020-08-30T16:40:04.635204Z",
     "iopub.status.idle": "2020-08-30T16:40:42.520451Z",
     "shell.execute_reply": "2020-08-30T16:40:42.521286Z"
    },
    "papermill": {
     "duration": 37.912769,
     "end_time": "2020-08-30T16:40:42.521473",
     "exception": false,
     "start_time": "2020-08-30T16:40:04.608704",
     "status": "completed"
    },
    "tags": []
   },
   "outputs": [
    {
     "name": "stdout",
     "output_type": "stream",
     "text": [
      "63144\n"
     ]
    }
   ],
   "source": [
    "for q in [\"question1\", \"question2\"]:\n",
    "    for i in train_X.index:\n",
    "        indices = []\n",
    "        for w in text_to_word_list(train_X[q][i]):\n",
    "            if w in word2idx:\n",
    "                indices.append(word2idx[w])\n",
    "            else:\n",
    "                word2idx[w] = len(word2idx)+1\n",
    "                indices.append(word2idx[w])\n",
    "        train_X.at[i, q] = indices\n",
    "word2idx[\"<unk>\"] = len(word2idx)+1\n",
    "print(len(word2idx))"
   ]
  },
  {
   "cell_type": "code",
   "execution_count": 8,
   "metadata": {
    "execution": {
     "iopub.execute_input": "2020-08-30T16:40:42.558421Z",
     "iopub.status.busy": "2020-08-30T16:40:42.557561Z",
     "iopub.status.idle": "2020-08-30T16:40:51.963475Z",
     "shell.execute_reply": "2020-08-30T16:40:51.962277Z"
    },
    "papermill": {
     "duration": 9.426145,
     "end_time": "2020-08-30T16:40:51.963633",
     "exception": false,
     "start_time": "2020-08-30T16:40:42.537488",
     "status": "completed"
    },
    "tags": []
   },
   "outputs": [],
   "source": [
    "for q in [\"question1\", \"question2\"]:\n",
    "    for i in test_X.index:\n",
    "        indices = words_to_indices(text_to_word_list(test_X[q][i]))\n",
    "        test_X.at[i, q] = indices"
   ]
  },
  {
   "cell_type": "code",
   "execution_count": 9,
   "metadata": {
    "execution": {
     "iopub.execute_input": "2020-08-30T16:40:52.011148Z",
     "iopub.status.busy": "2020-08-30T16:40:52.006150Z",
     "iopub.status.idle": "2020-08-30T16:40:52.341153Z",
     "shell.execute_reply": "2020-08-30T16:40:52.341916Z"
    },
    "papermill": {
     "duration": 0.362332,
     "end_time": "2020-08-30T16:40:52.342098",
     "exception": false,
     "start_time": "2020-08-30T16:40:51.979766",
     "status": "completed"
    },
    "tags": []
   },
   "outputs": [
    {
     "name": "stdout",
     "output_type": "stream",
     "text": [
      "244\n"
     ]
    }
   ],
   "source": [
    "max_seq_length = max(train_X.question1.map(lambda x: len(x)).max(),\n",
    "                     train_X.question2.map(lambda x: len(x)).max(),\n",
    "                     test_X.question1.map(lambda x: len(x)).max(),\n",
    "                     test_X.question2.map(lambda x: len(x)).max())\n",
    "print(max_seq_length)"
   ]
  },
  {
   "cell_type": "code",
   "execution_count": 10,
   "metadata": {
    "execution": {
     "iopub.execute_input": "2020-08-30T16:40:52.391917Z",
     "iopub.status.busy": "2020-08-30T16:40:52.390890Z",
     "iopub.status.idle": "2020-08-30T16:40:52.403979Z",
     "shell.execute_reply": "2020-08-30T16:40:52.404735Z"
    },
    "papermill": {
     "duration": 0.045866,
     "end_time": "2020-08-30T16:40:52.404924",
     "exception": false,
     "start_time": "2020-08-30T16:40:52.359058",
     "status": "completed"
    },
    "tags": []
   },
   "outputs": [
    {
     "name": "stdout",
     "output_type": "stream",
     "text": [
      "(200000,) (50000,)\n"
     ]
    }
   ],
   "source": [
    "X = train_X[[\"question1\", \"question2\"]]\n",
    "X = {\"left\":X[\"question1\"], \"right\":X[\"question2\"]}\n",
    "Y = train_X[\"is_duplicate\"].values\n",
    "X_test = test_X[[\"question1\", \"question2\"]]\n",
    "X_test = {\"left\":X_test[\"question1\"], \"right\":X_test[\"question2\"]}\n",
    "Y_test = test_X[\"is_duplicate\"].values\n",
    "print(Y.shape, Y_test.shape)"
   ]
  },
  {
   "cell_type": "code",
   "execution_count": 11,
   "metadata": {
    "execution": {
     "iopub.execute_input": "2020-08-30T16:40:52.457321Z",
     "iopub.status.busy": "2020-08-30T16:40:52.452055Z",
     "iopub.status.idle": "2020-08-30T16:40:56.577148Z",
     "shell.execute_reply": "2020-08-30T16:40:56.578158Z"
    },
    "papermill": {
     "duration": 4.156401,
     "end_time": "2020-08-30T16:40:56.578350",
     "exception": false,
     "start_time": "2020-08-30T16:40:52.421949",
     "status": "completed"
    },
    "tags": []
   },
   "outputs": [],
   "source": [
    "for dataset in [X, X_test]:\n",
    "    for side in [\"left\", \"right\"]:\n",
    "        dataset[side] = pad_sequences(dataset[side], maxlen=max_seq_length, padding=\"post\", value=0)\n"
   ]
  },
  {
   "cell_type": "code",
   "execution_count": 12,
   "metadata": {
    "execution": {
     "iopub.execute_input": "2020-08-30T16:40:56.637515Z",
     "iopub.status.busy": "2020-08-30T16:40:56.636645Z",
     "iopub.status.idle": "2020-08-30T16:40:56.639158Z",
     "shell.execute_reply": "2020-08-30T16:40:56.639922Z"
    },
    "papermill": {
     "duration": 0.03394,
     "end_time": "2020-08-30T16:40:56.640072",
     "exception": false,
     "start_time": "2020-08-30T16:40:56.606132",
     "status": "completed"
    },
    "tags": []
   },
   "outputs": [],
   "source": [
    "def exponent_neg_manhattan_distance(left, right):\n",
    "    return K.exp(-K.sum(K.abs(left-right), axis=1, keepdims=True))"
   ]
  },
  {
   "cell_type": "code",
   "execution_count": 13,
   "metadata": {
    "execution": {
     "iopub.execute_input": "2020-08-30T16:40:56.699618Z",
     "iopub.status.busy": "2020-08-30T16:40:56.698799Z",
     "iopub.status.idle": "2020-08-30T16:40:56.704603Z",
     "shell.execute_reply": "2020-08-30T16:40:56.705520Z"
    },
    "papermill": {
     "duration": 0.040428,
     "end_time": "2020-08-30T16:40:56.705705",
     "exception": false,
     "start_time": "2020-08-30T16:40:56.665277",
     "status": "completed"
    },
    "tags": []
   },
   "outputs": [],
   "source": [
    "def make_model(n_hidden=100, embedding_size=150):\n",
    "    left_input = Input(shape=(max_seq_length, ), dtype=\"int32\")\n",
    "    right_input = Input(shape=(max_seq_length, ), dtype=\"int32\")\n",
    "    \n",
    "    embedding_layer = Embedding(input_dim=1+len(word2idx), output_dim=embedding_size, input_length=max_seq_length)\n",
    "    encoded_left = embedding_layer(left_input)\n",
    "    encoded_right = embedding_layer(right_input)\n",
    "    \n",
    "    siamese_LSTM = Bidirectional(LSTM(n_hidden))\n",
    "    \n",
    "    left_output = siamese_LSTM(encoded_left)\n",
    "    right_output = siamese_LSTM(encoded_right)\n",
    "    \n",
    "    distance = Lambda(function=lambda x: exponent_neg_manhattan_distance(x[0], x[1]),output_shape=lambda x: (x[0][0], 1))([left_output, right_output])\n",
    "    \n",
    "    model = Model(inputs=[left_input, right_input], outputs=distance)\n",
    "    \n",
    "    return model"
   ]
  },
  {
   "cell_type": "code",
   "execution_count": 14,
   "metadata": {
    "execution": {
     "iopub.execute_input": "2020-08-30T16:40:56.782795Z",
     "iopub.status.busy": "2020-08-30T16:40:56.781871Z",
     "iopub.status.idle": "2020-08-30T16:41:00.707361Z",
     "shell.execute_reply": "2020-08-30T16:41:00.706061Z"
    },
    "papermill": {
     "duration": 3.965371,
     "end_time": "2020-08-30T16:41:00.707489",
     "exception": false,
     "start_time": "2020-08-30T16:40:56.742118",
     "status": "completed"
    },
    "tags": []
   },
   "outputs": [],
   "source": [
    "opt = Adam(learning_rate=0.001, beta_1=0.9, beta_2=0.999)\n",
    "model = make_model()"
   ]
  },
  {
   "cell_type": "code",
   "execution_count": 15,
   "metadata": {
    "execution": {
     "iopub.execute_input": "2020-08-30T16:41:00.752345Z",
     "iopub.status.busy": "2020-08-30T16:41:00.751224Z",
     "iopub.status.idle": "2020-08-30T16:41:00.754936Z",
     "shell.execute_reply": "2020-08-30T16:41:00.757897Z"
    },
    "papermill": {
     "duration": 0.032996,
     "end_time": "2020-08-30T16:41:00.758067",
     "exception": false,
     "start_time": "2020-08-30T16:41:00.725071",
     "status": "completed"
    },
    "tags": []
   },
   "outputs": [
    {
     "name": "stdout",
     "output_type": "stream",
     "text": [
      "Model: \"functional_1\"\n",
      "__________________________________________________________________________________________________\n",
      "Layer (type)                    Output Shape         Param #     Connected to                     \n",
      "==================================================================================================\n",
      "input_1 (InputLayer)            [(None, 244)]        0                                            \n",
      "__________________________________________________________________________________________________\n",
      "input_2 (InputLayer)            [(None, 244)]        0                                            \n",
      "__________________________________________________________________________________________________\n",
      "embedding (Embedding)           (None, 244, 150)     9471750     input_1[0][0]                    \n",
      "                                                                 input_2[0][0]                    \n",
      "__________________________________________________________________________________________________\n",
      "bidirectional (Bidirectional)   (None, 200)          200800      embedding[0][0]                  \n",
      "                                                                 embedding[1][0]                  \n",
      "__________________________________________________________________________________________________\n",
      "lambda (Lambda)                 (None, 1)            0           bidirectional[0][0]              \n",
      "                                                                 bidirectional[1][0]              \n",
      "==================================================================================================\n",
      "Total params: 9,672,550\n",
      "Trainable params: 9,672,550\n",
      "Non-trainable params: 0\n",
      "__________________________________________________________________________________________________\n"
     ]
    }
   ],
   "source": [
    "model.summary()"
   ]
  },
  {
   "cell_type": "code",
   "execution_count": 16,
   "metadata": {
    "execution": {
     "iopub.execute_input": "2020-08-30T16:41:00.806048Z",
     "iopub.status.busy": "2020-08-30T16:41:00.802382Z",
     "iopub.status.idle": "2020-08-30T16:41:00.812654Z",
     "shell.execute_reply": "2020-08-30T16:41:00.812077Z"
    },
    "papermill": {
     "duration": 0.036956,
     "end_time": "2020-08-30T16:41:00.812749",
     "exception": false,
     "start_time": "2020-08-30T16:41:00.775793",
     "status": "completed"
    },
    "tags": []
   },
   "outputs": [],
   "source": [
    "model.compile(optimizer=opt, metrics=[\"accuracy\"], loss=\"binary_crossentropy\")"
   ]
  },
  {
   "cell_type": "code",
   "execution_count": 17,
   "metadata": {
    "execution": {
     "iopub.execute_input": "2020-08-30T16:41:00.852694Z",
     "iopub.status.busy": "2020-08-30T16:41:00.852063Z",
     "iopub.status.idle": "2020-08-30T16:41:00.856382Z",
     "shell.execute_reply": "2020-08-30T16:41:00.855922Z"
    },
    "papermill": {
     "duration": 0.026148,
     "end_time": "2020-08-30T16:41:00.856474",
     "exception": false,
     "start_time": "2020-08-30T16:41:00.830326",
     "status": "completed"
    },
    "tags": []
   },
   "outputs": [],
   "source": [
    "batch_size=128\n",
    "epochs=25\n",
    "early_stopper = EarlyStopping(patience=3, restore_best_weights=True)\n",
    "model_checkpoint = ModelCheckpoint(\"ckpt_model.hdf5\", save_best_only=True)"
   ]
  },
  {
   "cell_type": "code",
   "execution_count": 18,
   "metadata": {
    "execution": {
     "iopub.execute_input": "2020-08-30T16:41:00.898993Z",
     "iopub.status.busy": "2020-08-30T16:41:00.898407Z",
     "iopub.status.idle": "2020-08-30T17:13:46.689262Z",
     "shell.execute_reply": "2020-08-30T17:13:46.690129Z"
    },
    "papermill": {
     "duration": 1965.815566,
     "end_time": "2020-08-30T17:13:46.690332",
     "exception": false,
     "start_time": "2020-08-30T16:41:00.874766",
     "status": "completed"
    },
    "tags": []
   },
   "outputs": [
    {
     "name": "stdout",
     "output_type": "stream",
     "text": [
      "Epoch 1/25\n",
      "1407/1407 [==============================] - 322s 229ms/step - loss: 0.5148 - accuracy: 0.7400 - val_loss: 0.4638 - val_accuracy: 0.7864\n",
      "Epoch 2/25\n",
      "1407/1407 [==============================] - 323s 230ms/step - loss: 0.3866 - accuracy: 0.8319 - val_loss: 0.4377 - val_accuracy: 0.8073\n",
      "Epoch 3/25\n",
      "1407/1407 [==============================] - 325s 231ms/step - loss: 0.3329 - accuracy: 0.8611 - val_loss: 0.4359 - val_accuracy: 0.8099\n",
      "Epoch 4/25\n",
      "1407/1407 [==============================] - 325s 231ms/step - loss: 0.3005 - accuracy: 0.8782 - val_loss: 0.4415 - val_accuracy: 0.8112\n",
      "Epoch 5/25\n",
      "1407/1407 [==============================] - 329s 233ms/step - loss: 0.2754 - accuracy: 0.8918 - val_loss: 0.4555 - val_accuracy: 0.8120\n",
      "Epoch 6/25\n",
      "1407/1407 [==============================] - 333s 237ms/step - loss: 0.2559 - accuracy: 0.9015 - val_loss: 0.4699 - val_accuracy: 0.8155\n"
     ]
    }
   ],
   "source": [
    "model_trained = model.fit([X[\"left\"], X[\"right\"]], Y, batch_size=batch_size, epochs=epochs, validation_split=0.1, callbacks=[early_stopper, model_checkpoint])"
   ]
  },
  {
   "cell_type": "code",
   "execution_count": 19,
   "metadata": {
    "execution": {
     "iopub.execute_input": "2020-08-30T17:13:52.681776Z",
     "iopub.status.busy": "2020-08-30T17:13:52.680758Z",
     "iopub.status.idle": "2020-08-30T17:14:22.080988Z",
     "shell.execute_reply": "2020-08-30T17:14:22.081476Z"
    },
    "papermill": {
     "duration": 32.357716,
     "end_time": "2020-08-30T17:14:22.081641",
     "exception": false,
     "start_time": "2020-08-30T17:13:49.723925",
     "status": "completed"
    },
    "tags": []
   },
   "outputs": [
    {
     "name": "stdout",
     "output_type": "stream",
     "text": [
      "1563/1563 [==============================] - 29s 19ms/step - loss: 0.4373 - accuracy: 0.8147\n"
     ]
    },
    {
     "data": {
      "text/plain": [
       "[0.43732401728630066, 0.814740002155304]"
      ]
     },
     "execution_count": 19,
     "metadata": {},
     "output_type": "execute_result"
    }
   ],
   "source": [
    "model.evaluate([X_test[\"left\"], X_test[\"right\"]], Y_test)"
   ]
  },
  {
   "cell_type": "code",
   "execution_count": 20,
   "metadata": {
    "execution": {
     "iopub.execute_input": "2020-08-30T17:14:28.443227Z",
     "iopub.status.busy": "2020-08-30T17:14:28.442598Z",
     "iopub.status.idle": "2020-08-30T17:14:28.779191Z",
     "shell.execute_reply": "2020-08-30T17:14:28.777979Z"
    },
    "papermill": {
     "duration": 3.478141,
     "end_time": "2020-08-30T17:14:28.779310",
     "exception": false,
     "start_time": "2020-08-30T17:14:25.301169",
     "status": "completed"
    },
    "tags": []
   },
   "outputs": [],
   "source": [
    "model.save(\"my_model.hdf5\")"
   ]
  }
 ],
 "metadata": {
  "kernelspec": {
   "display_name": "Python 3",
   "language": "python",
   "name": "python3"
  },
  "language_info": {
   "codemirror_mode": {
    "name": "ipython",
    "version": 3
   },
   "file_extension": ".py",
   "mimetype": "text/x-python",
   "name": "python",
   "nbconvert_exporter": "python",
   "pygments_lexer": "ipython3",
   "version": "3.7.6"
  },
  "papermill": {
   "duration": 2081.209252,
   "end_time": "2020-08-30T17:14:33.288934",
   "environment_variables": {},
   "exception": null,
   "input_path": "__notebook__.ipynb",
   "output_path": "__notebook__.ipynb",
   "parameters": {},
   "start_time": "2020-08-30T16:39:52.079682",
   "version": "2.1.0"
  }
 },
 "nbformat": 4,
 "nbformat_minor": 4
}
